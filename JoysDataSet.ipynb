{
 "cells": [
  {
   "cell_type": "code",
   "execution_count": 8,
   "metadata": {},
   "outputs": [],
   "source": [
    "import pandas as pd\n",
    "\n",
    "plumbers = pd.read_csv(\"/home/jupyter-jog141/FinalProject/Plumbers.csv\")"
   ]
  },
  {
   "cell_type": "code",
   "execution_count": 12,
   "metadata": {},
   "outputs": [
    {
     "data": {
      "text/plain": [
       "15642    45\n",
       "15237    44\n",
       "15236    40\n",
       "15227    35\n",
       "15120    35\n",
       "         ..\n",
       "33706     1\n",
       "99835     1\n",
       "15007     1\n",
       "16024     1\n",
       "80920     1\n",
       "Name: zip, Length: 209, dtype: int64"
      ]
     },
     "metadata": {},
     "output_type": "display_data"
    }
   ],
   "source": [
    "frequency = plumbers[\"zip\"].value_counts()\n",
    "display(frequency)"
   ]
  },
  {
   "cell_type": "code",
   "execution_count": 11,
   "metadata": {},
   "outputs": [
    {
     "data": {
      "text/plain": [
       "0    15642\n",
       "dtype: object"
      ]
     },
     "metadata": {},
     "output_type": "display_data"
    }
   ],
   "source": [
    "display(plumbers[\"zip\"].mode())"
   ]
  },
  {
   "cell_type": "markdown",
   "metadata": {},
   "source": [
    "**Analysis**\n",
    "\n",
    "After analyzing the dataset, I felt as though looking at each piece of data as a zip code would give me the best classification for a neighborhood because it was more specific than the cities provided. I also used the value_counts() method to get the top frequencies as well as utilizing the mode() so I could also acquire the top 5 frequencies in case the zip codes my other team members calculate do not match up with the top zip code of my data set. However from my data I am able to conclude that "
   ]
  },
  {
   "cell_type": "code",
   "execution_count": null,
   "metadata": {},
   "outputs": [],
   "source": []
  }
 ],
 "metadata": {
  "kernelspec": {
   "display_name": "Python 3",
   "language": "python",
   "name": "python3"
  },
  "language_info": {
   "codemirror_mode": {
    "name": "ipython",
    "version": 3
   },
   "file_extension": ".py",
   "mimetype": "text/x-python",
   "name": "python",
   "nbconvert_exporter": "python",
   "pygments_lexer": "ipython3",
   "version": "3.8.3"
  }
 },
 "nbformat": 4,
 "nbformat_minor": 4
}
