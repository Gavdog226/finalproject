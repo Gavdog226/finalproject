{
 "cells": [
  {
   "cell_type": "code",
   "execution_count": 14,
   "metadata": {},
   "outputs": [],
   "source": [
    "import pandas as pd\n",
    "import numpy as np\n",
    "\n",
    "%matplotlib inline\n",
    "import matplotlib.pyplot as plt\n",
    "\n"
   ]
  },
  {
   "cell_type": "code",
   "execution_count": 13,
   "metadata": {},
   "outputs": [
    {
     "name": "stdout",
     "output_type": "stream",
     "text": [
      "Central Business District\n"
     ]
    }
   ],
   "source": [
    "art = pd.read_csv(\"Art.csv\")\n",
    "artHood = art.groupby(\"neighborhood\").count().reset_index()\n",
    "artHood\n",
    "n = 0\n",
    "neighbor = ''\n",
    "count = 0\n",
    "while(n<len(artHood)):\n",
    "    if(artHood.iloc[n][1] > count):\n",
    "        neighbor = artHood.iloc[n][0]\n",
    "        count = artHood.iloc[n][1]\n",
    "    n = n+1\n",
    "\n",
    "print(neighbor)"
   ]
  },
  {
   "cell_type": "code",
   "execution_count": 25,
   "metadata": {},
   "outputs": [
    {
     "name": "stdout",
     "output_type": "stream",
     "text": [
      "<bound method Series.max of 15146    15\n",
      "15222    10\n",
      "15205     9\n",
      "15213     9\n",
      "15237     8\n",
      "         ..\n",
      "15148     1\n",
      "15201     1\n",
      "15044     1\n",
      "15211     1\n",
      "15238     1\n",
      "Name: ZIP Code, Length: 68, dtype: int64>\n",
      "15146\n"
     ]
    }
   ],
   "source": [
    "ff = pd.read_csv(\"fastfoodset.csv\")\n",
    "\n",
    "query= ff['Category'] == \"Take Out\"\n",
    "takeout= ff[query]\n",
    "frequency = takeout[\"ZIP Code\"].value_counts().max\n",
    "print(frequency)\n",
    "freqchart2=takeout[\"ZIP Code\"].value_counts().sort_values(ascending=False).reset_index()\n",
    "freqchart2.head(25)\n",
    "maggiesbest=freqchart2.iloc[0][0]\n",
    "print(maggiesbest)"
   ]
  },
  {
   "cell_type": "code",
   "execution_count": 9,
   "metadata": {},
   "outputs": [
    {
     "name": "stdout",
     "output_type": "stream",
     "text": [
      "<bound method Series.max of 15642    45\n",
      "15237    44\n",
      "15236    40\n",
      "15120    35\n",
      "15227    35\n",
      "         ..\n",
      "15670     1\n",
      "80920     1\n",
      "18237     1\n",
      "15022     1\n",
      "34240     1\n",
      "Name: zip, Length: 209, dtype: int64>\n",
      "15642\n"
     ]
    }
   ],
   "source": [
    "plumbers = pd.read_csv(\"Plumbers.csv\")\n",
    "frequency = plumbers[\"zip\"].value_counts().max\n",
    "print(frequency)\n",
    "\n",
    "frequency2 = plumbers[\"zip\"].value_counts().sort_values(ascending = False).reset_index()\n",
    "frequency2.head(25)\n",
    "best = frequency2.iloc[0][0]\n",
    "print(best)"
   ]
  },
  {
   "cell_type": "code",
   "execution_count": 49,
   "metadata": {},
   "outputs": [
    {
     "data": {
      "text/html": [
       "<div>\n",
       "<style scoped>\n",
       "    .dataframe tbody tr th:only-of-type {\n",
       "        vertical-align: middle;\n",
       "    }\n",
       "\n",
       "    .dataframe tbody tr th {\n",
       "        vertical-align: top;\n",
       "    }\n",
       "\n",
       "    .dataframe thead th {\n",
       "        text-align: right;\n",
       "    }\n",
       "</style>\n",
       "<table border=\"1\" class=\"dataframe\">\n",
       "  <thead>\n",
       "    <tr style=\"text-align: right;\">\n",
       "      <th></th>\n",
       "      <th>index</th>\n",
       "      <th>zip</th>\n",
       "    </tr>\n",
       "  </thead>\n",
       "  <tbody>\n",
       "    <tr>\n",
       "      <th>0</th>\n",
       "      <td>15642</td>\n",
       "      <td>45</td>\n",
       "    </tr>\n",
       "    <tr>\n",
       "      <th>1</th>\n",
       "      <td>15237</td>\n",
       "      <td>44</td>\n",
       "    </tr>\n",
       "    <tr>\n",
       "      <th>2</th>\n",
       "      <td>15236</td>\n",
       "      <td>40</td>\n",
       "    </tr>\n",
       "    <tr>\n",
       "      <th>3</th>\n",
       "      <td>15120</td>\n",
       "      <td>35</td>\n",
       "    </tr>\n",
       "    <tr>\n",
       "      <th>4</th>\n",
       "      <td>15227</td>\n",
       "      <td>35</td>\n",
       "    </tr>\n",
       "    <tr>\n",
       "      <th>...</th>\n",
       "      <td>...</td>\n",
       "      <td>...</td>\n",
       "    </tr>\n",
       "    <tr>\n",
       "      <th>204</th>\n",
       "      <td>15347</td>\n",
       "      <td>1</td>\n",
       "    </tr>\n",
       "    <tr>\n",
       "      <th>205</th>\n",
       "      <td>46112</td>\n",
       "      <td>1</td>\n",
       "    </tr>\n",
       "    <tr>\n",
       "      <th>206</th>\n",
       "      <td>15342</td>\n",
       "      <td>1</td>\n",
       "    </tr>\n",
       "    <tr>\n",
       "      <th>207</th>\n",
       "      <td>15035</td>\n",
       "      <td>1</td>\n",
       "    </tr>\n",
       "    <tr>\n",
       "      <th>208</th>\n",
       "      <td>34240</td>\n",
       "      <td>1</td>\n",
       "    </tr>\n",
       "  </tbody>\n",
       "</table>\n",
       "<p>209 rows × 2 columns</p>\n",
       "</div>"
      ],
      "text/plain": [
       "     index  zip\n",
       "0    15642   45\n",
       "1    15237   44\n",
       "2    15236   40\n",
       "3    15120   35\n",
       "4    15227   35\n",
       "..     ...  ...\n",
       "204  15347    1\n",
       "205  46112    1\n",
       "206  15342    1\n",
       "207  15035    1\n",
       "208  34240    1\n",
       "\n",
       "[209 rows x 2 columns]"
      ]
     },
     "execution_count": 49,
     "metadata": {},
     "output_type": "execute_result"
    }
   ],
   "source": []
  },
  {
   "cell_type": "code",
   "execution_count": 105,
   "metadata": {},
   "outputs": [
    {
     "name": "stdout",
     "output_type": "stream",
     "text": [
      "    zipcode  average\n",
      "50  15148.0      1.0\n",
      "43  15139.0      2.0\n",
      "59  15003.0      2.0\n",
      "53  15208.0      2.0\n",
      "48  15144.0      2.0\n",
      "..      ...      ...\n",
      "10  15102.0     19.5\n",
      "15  15120.0     20.0\n",
      "5   15227.0     21.0\n",
      "4   15236.0     24.0\n",
      "3   15237.0     26.0\n",
      "\n",
      "[61 rows x 2 columns]\n"
     ]
    }
   ],
   "source": [
    "\n",
    "bestzip=0\n",
    "largestnum=0\n",
    "combineddata=pd.DataFrame(columns=['zipcode','average'])\n",
    "for row in freqchart2.itertuples(index = True, name ='P'): \n",
    "    mnum=getattr(row, 'index')\n",
    "    #print(isinstance(mnum,int))\n",
    "    #print(isinstance(row,int))\n",
    "    for row2 in frequency2.itertuples(index = True, name ='Pandas'):\n",
    "        #frequency2[frequency2.index!=\"na\"]\n",
    "        \n",
    "        try:\n",
    "            jnum=(getattr(row2, \"index\"))\n",
    "            jnum=int(jnum)\n",
    "        except ValueError:\n",
    "            x=True\n",
    "        #print(isinstance(jnum,int))\n",
    "        #print(mnum)\n",
    "        #print(jnum)\n",
    "        if(mnum==jnum):\n",
    "            #print(mnum)\n",
    "            try:\n",
    "                row2int=row2[2]\n",
    "                row2int=int(row2int)\n",
    "            except ValueError:\n",
    "                x=True\n",
    "            avg=(row[2]+row2int)/2\n",
    "            newrow={'zipcode':mnum,'average':avg}\n",
    "            #print(newrow)\n",
    "            combineddata=combineddata.append(newrow, ignore_index=True)\n",
    "            break\n",
    "combineddata=combineddata.sort_values(by=['average'])\n",
    "print(combineddata)\n",
    "#print(bestzip)\n",
    "#print(largestnum)\n",
    "                "
   ]
  },
  {
   "cell_type": "code",
   "execution_count": 77,
   "metadata": {},
   "outputs": [
    {
     "data": {
      "text/html": [
       "<div>\n",
       "<style scoped>\n",
       "    .dataframe tbody tr th:only-of-type {\n",
       "        vertical-align: middle;\n",
       "    }\n",
       "\n",
       "    .dataframe tbody tr th {\n",
       "        vertical-align: top;\n",
       "    }\n",
       "\n",
       "    .dataframe thead th {\n",
       "        text-align: right;\n",
       "    }\n",
       "</style>\n",
       "<table border=\"1\" class=\"dataframe\">\n",
       "  <thead>\n",
       "    <tr style=\"text-align: right;\">\n",
       "      <th></th>\n",
       "      <th>index</th>\n",
       "      <th>ZIP Code</th>\n",
       "    </tr>\n",
       "  </thead>\n",
       "  <tbody>\n",
       "    <tr>\n",
       "      <th>0</th>\n",
       "      <td>15146</td>\n",
       "      <td>15</td>\n",
       "    </tr>\n",
       "    <tr>\n",
       "      <th>1</th>\n",
       "      <td>15222</td>\n",
       "      <td>10</td>\n",
       "    </tr>\n",
       "    <tr>\n",
       "      <th>2</th>\n",
       "      <td>15205</td>\n",
       "      <td>9</td>\n",
       "    </tr>\n",
       "    <tr>\n",
       "      <th>3</th>\n",
       "      <td>15213</td>\n",
       "      <td>9</td>\n",
       "    </tr>\n",
       "    <tr>\n",
       "      <th>4</th>\n",
       "      <td>15237</td>\n",
       "      <td>8</td>\n",
       "    </tr>\n",
       "  </tbody>\n",
       "</table>\n",
       "</div>"
      ],
      "text/plain": [
       "   index  ZIP Code\n",
       "0  15146        15\n",
       "1  15222        10\n",
       "2  15205         9\n",
       "3  15213         9\n",
       "4  15237         8"
      ]
     },
     "execution_count": 77,
     "metadata": {},
     "output_type": "execute_result"
    }
   ],
   "source": [
    "freqcha"
   ]
  },
  {
   "cell_type": "code",
   "execution_count": 42,
   "metadata": {},
   "outputs": [
    {
     "data": {
      "text/html": [
       "<div>\n",
       "<style scoped>\n",
       "    .dataframe tbody tr th:only-of-type {\n",
       "        vertical-align: middle;\n",
       "    }\n",
       "\n",
       "    .dataframe tbody tr th {\n",
       "        vertical-align: top;\n",
       "    }\n",
       "\n",
       "    .dataframe thead th {\n",
       "        text-align: right;\n",
       "    }\n",
       "</style>\n",
       "<table border=\"1\" class=\"dataframe\">\n",
       "  <thead>\n",
       "    <tr style=\"text-align: right;\">\n",
       "      <th></th>\n",
       "      <th>index</th>\n",
       "      <th>zip</th>\n",
       "    </tr>\n",
       "  </thead>\n",
       "  <tbody>\n",
       "    <tr>\n",
       "      <th>0</th>\n",
       "      <td>15642</td>\n",
       "      <td>45</td>\n",
       "    </tr>\n",
       "    <tr>\n",
       "      <th>1</th>\n",
       "      <td>15237</td>\n",
       "      <td>44</td>\n",
       "    </tr>\n",
       "    <tr>\n",
       "      <th>2</th>\n",
       "      <td>15236</td>\n",
       "      <td>40</td>\n",
       "    </tr>\n",
       "    <tr>\n",
       "      <th>3</th>\n",
       "      <td>15120</td>\n",
       "      <td>35</td>\n",
       "    </tr>\n",
       "    <tr>\n",
       "      <th>4</th>\n",
       "      <td>15227</td>\n",
       "      <td>35</td>\n",
       "    </tr>\n",
       "  </tbody>\n",
       "</table>\n",
       "</div>"
      ],
      "text/plain": [
       "   index  zip\n",
       "0  15642   45\n",
       "1  15237   44\n",
       "2  15236   40\n",
       "3  15120   35\n",
       "4  15227   35"
      ]
     },
     "execution_count": 42,
     "metadata": {},
     "output_type": "execute_result"
    }
   ],
   "source": [
    "frequency2.head()"
   ]
  },
  {
   "cell_type": "code",
   "execution_count": null,
   "metadata": {},
   "outputs": [],
   "source": []
  }
 ],
 "metadata": {
  "kernelspec": {
   "display_name": "Python 3",
   "language": "python",
   "name": "python3"
  },
  "language_info": {
   "codemirror_mode": {
    "name": "ipython",
    "version": 3
   },
   "file_extension": ".py",
   "mimetype": "text/x-python",
   "name": "python",
   "nbconvert_exporter": "python",
   "pygments_lexer": "ipython3",
   "version": "3.8.3"
  }
 },
 "nbformat": 4,
 "nbformat_minor": 4
}
