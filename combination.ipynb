{
 "cells": [
  {
   "cell_type": "code",
   "execution_count": 2,
   "metadata": {},
   "outputs": [
    {
     "name": "stdout",
     "output_type": "stream",
     "text": [
      "15146\n"
     ]
    }
   ],
   "source": [
    "import pandas as pd\n",
    "import numpy as np\n",
    "\n",
    "%matplotlib inline\n",
    "import matplotlib.pyplot as plt\n",
    "\n"
   ]
  },
  {
   "cell_type": "code",
   "execution_count": 3,
   "metadata": {},
   "outputs": [
    {
     "name": "stdout",
     "output_type": "stream",
     "text": [
      "Central Business District\n"
     ]
    }
   ],
   "source": [
    "art = pd.read_csv(\"Art.csv\")\n",
    "artHood = art.groupby(\"neighborhood\").count().reset_index()\n",
    "artHood\n",
    "n = 0\n",
    "neighbor = ''\n",
    "count = 0\n",
    "while(n<len(artHood)):\n",
    "    if(artHood.iloc[n][1] > count):\n",
    "        neighbor = artHood.iloc[n][0]\n",
    "        count = artHood.iloc[n][1]\n",
    "    n = n+1\n",
    "\n",
    "print(neighbor)"
   ]
  },
  {
   "cell_type": "code",
   "execution_count": 5,
   "metadata": {},
   "outputs": [
    {
     "name": "stdout",
     "output_type": "stream",
     "text": [
      "15146\n"
     ]
    }
   ],
   "source": [
    "ff = pd.read_csv(\"/home/jupyter-mrk101/finalproject/fastfoodset.csv\")\n",
    "\n",
    "query= ff['Category'] == \"Take Out\"\n",
    "takeout= ff[query]\n",
    "freqchart2=takeout[\"ZIP Code\"].value_counts().sort_values(ascending=False).reset_index()\n",
    "maggiesbest=freqchart2.iloc[0][0]\n",
    "print(maggiesbest)"
   ]
  },
  {
   "cell_type": "code",
   "execution_count": 6,
   "metadata": {},
   "outputs": [
    {
     "data": {
      "text/plain": [
       "array([15237, 15219, 15210, 15108, 15126, 15205, 15065, 15146, 15216,\n",
       "       15213, 15017, 15136, 15044, 16046, 15234, 15218, 15147, 15122,\n",
       "       15202, 15239, 15236, 15102, 15131, 15222, 15123, 15231, 15084,\n",
       "       15232, 15241, 15090, 15203, 15238, 15106, 15120, 15137, 15025,\n",
       "       15224, 15220, 15275, 15143, 15217, 15101, 15223, 15071, 15227,\n",
       "       15206, 15282, 15212, 15201, 15221, 15034, 15229, 15235, 15132,\n",
       "       15228, 15211, 15116, 15076, 15145, 15226, 15037, 15140, 15139,\n",
       "       15209, 15208, 15207, 15129, 15215, 15144, 15024, 15110, 15233,\n",
       "       15148, 15003, 15225, 15045, 15056])"
      ]
     },
     "execution_count": 6,
     "metadata": {},
     "output_type": "execute_result"
    }
   ],
   "source": [
    "ff[\"ZIP Code\"].unique()"
   ]
  },
  {
   "cell_type": "code",
   "execution_count": null,
   "metadata": {},
   "outputs": [],
   "source": []
  }
 ],
 "metadata": {
  "kernelspec": {
   "display_name": "Python 3",
   "language": "python",
   "name": "python3"
  },
  "language_info": {
   "codemirror_mode": {
    "name": "ipython",
    "version": 3
   },
   "file_extension": ".py",
   "mimetype": "text/x-python",
   "name": "python",
   "nbconvert_exporter": "python",
   "pygments_lexer": "ipython3",
   "version": "3.8.3"
  }
 },
 "nbformat": 4,
 "nbformat_minor": 4
}
